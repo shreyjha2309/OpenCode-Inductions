{
 "cells": [
  {
   "cell_type": "code",
   "execution_count": 1,
   "metadata": {},
   "outputs": [
    {
     "name": "stdout",
     "output_type": "stream",
     "text": [
      "Enter term to be encrypted: Shrey\n",
      "FUERL\n",
      "Enter term to be decrypted: Jha\n",
      "WUN\n"
     ]
    }
   ],
   "source": [
    "class Caesar():\n",
    "\n",
    "    def __init__(self):\n",
    "        self.letters = 'ABCDEFGHIJKLMNOPQRSTUVWXYZ'\n",
    "        self.translated = ''\n",
    "\n",
    "    def __crypt(self, mode):\n",
    "        for symbol in self.message.upper():\n",
    "            if symbol in self.letters:\n",
    "                num = self.letters.find(symbol)\n",
    "                if mode == 'encrypt':\n",
    "                    num = num + self.key\n",
    "                elif mode == 'decrypt':\n",
    "                    num = num - self.key\n",
    "\n",
    "                if num >= len(self.letters):\n",
    "                    num = num - len(self.letters)\n",
    "                elif num < 0:\n",
    "                    num = num + len(self.letters)\n",
    "\n",
    "                self.translated = self.translated + self.letters[num]\n",
    "            else:\n",
    "                self.translated = self.translated + symbol\n",
    "\n",
    "        return self.translated\n",
    "\n",
    "    def encrypt(self, message, key=0):\n",
    "        self.translated = ''\n",
    "        self.key = key\n",
    "        self.message = message\n",
    "        return self.__crypt('encrypt')\n",
    "\n",
    "    def decrypt(self, message, key=0):\n",
    "        self.translated = ''\n",
    "        self.key = key\n",
    "        self.message = message\n",
    "        return self.__crypt('decrypt')\n",
    "\n",
    "if __name__ == '__main__':\n",
    "    cipher = Caesar()\n",
    "    x=''\n",
    "    y=''\n",
    "    print (cipher.encrypt(message=input(\"Enter term to be encrypted: \"), key=13))\n",
    "    print (cipher.decrypt(message=input(\"Enter term to be decrypted: \"), key=13))"
   ]
  },
  {
   "cell_type": "code",
   "execution_count": null,
   "metadata": {},
   "outputs": [],
   "source": []
  }
 ],
 "metadata": {
  "kernelspec": {
   "display_name": "Python 3",
   "language": "python",
   "name": "python3"
  },
  "language_info": {
   "codemirror_mode": {
    "name": "ipython",
    "version": 3
   },
   "file_extension": ".py",
   "mimetype": "text/x-python",
   "name": "python",
   "nbconvert_exporter": "python",
   "pygments_lexer": "ipython3",
   "version": "3.7.6"
  }
 },
 "nbformat": 4,
 "nbformat_minor": 4
}
